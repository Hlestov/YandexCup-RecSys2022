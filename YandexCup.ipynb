{
  "cells": [
    {
      "cell_type": "markdown",
      "metadata": {
        "id": "nOum9hif89Pe"
      },
      "source": [
        "# Данные\n",
        "- train - каждая строка - последовательность id треков, которые лайкнул один пользователь.  \n",
        "- test - имеет точно такой же формат, но в каждой строке не хватает последнего лайка, который надо предсказать.  \n",
        "- track_artists.csv - информация о исполнителях треков. Гарантируется, что у каждого трека есть ровно один исполнитель.  \n",
        "- Файл score.py содержит код, который вы можете использовать, чтобы локально считать mrr для своего решения.  \n",
        "  \n",
        "Количество лайкнутых треков у каждого позьзователя разное"
      ]
    },
    {
      "cell_type": "code",
      "execution_count": null,
      "metadata": {
        "id": "EFD5ZIk14mcn"
      },
      "outputs": [],
      "source": [
        "!gdown --id 1dGLQuHn-dDMZfFGVDh7vsOv84GnhOZTL\n",
        "\n",
        "!unzip likes_data.zip\n",
        "\n",
        "!pip install --upgrade -q gensim"
      ]
    },
    {
      "cell_type": "code",
      "execution_count": 2,
      "metadata": {
        "id": "TQxdj8si1a08"
      },
      "outputs": [],
      "source": [
        "import pandas as pd\n",
        "import numpy as np\n",
        "import matplotlib.pyplot as plt\n",
        "from tqdm import tqdm\n",
        "\n",
        "\n",
        "from gensim.models import Word2Vec\n",
        "from gensim.models import KeyedVectors"
      ]
    },
    {
      "cell_type": "markdown",
      "metadata": {
        "id": "3wg2giN3Lk1u"
      },
      "source": [
        "1. Создать корпус[пользователь] = [треки которые он лайкнул]\n",
        "2. Создать векторное представление треков\n",
        "3. Посчитать средний вектор для кажого пользователя\n",
        "4. В цикле для каждого пользователя найти ему топ 100 треков, которые он не слушал"
      ]
    },
    {
      "cell_type": "code",
      "execution_count": 3,
      "metadata": {
        "id": "2UH0KFmfEHoN"
      },
      "outputs": [],
      "source": [
        "# Создадим массив треков пользователей\n",
        "likes = []\n",
        "\n",
        "# пользователи train\n",
        "with open('train') as f:\n",
        "    lines = f.readlines()\n",
        "    for line in lines:\n",
        "        tracks = line.strip().split(' ')\n",
        "        likes.append(tracks)\n",
        "\n",
        "# пользователи test\n",
        "with open('test') as f:\n",
        "    lines = f.readlines()\n",
        "    for line in lines:\n",
        "        tracks = line.strip().split(' ')\n",
        "        likes.append(tracks)"
      ]
    },
    {
      "cell_type": "code",
      "source": [
        "# посчитаем максимальную длинну последовательности треков\n",
        "max_len = 0\n",
        "for i in likes: \n",
        "    max_len = max(max_len, len(i))\n",
        "print('Максимальное кол-во лайкнутых треков: ', max_len)"
      ],
      "metadata": {
        "colab": {
          "base_uri": "https://localhost:8080/"
        },
        "id": "SMtnTAOVayLS",
        "outputId": "d23d17aa-b0f1-45ad-ffde-9adaa76550db"
      },
      "execution_count": 17,
      "outputs": [
        {
          "output_type": "stream",
          "name": "stdout",
          "text": [
            "Максимальное кол-во лайкнутых треков:  256\n"
          ]
        }
      ]
    },
    {
      "cell_type": "code",
      "source": [
        "# пострим распределение кол-ва лайков по пользователям\n",
        "len_likes = {}\n",
        "for i in range(max_len+1):\n",
        "    len_likes[i] = 0\n",
        "\n",
        "for i in range(len(likes)):\n",
        "    len_likes[len(likes[i])] += 1\n",
        "\n",
        "x, y = [], []\n",
        "for i in range(max_len+1):\n",
        "    x.append(str(i))\n",
        "    y.append(len_likes[i])\n",
        "\n",
        "# построение графика\n",
        "plt.figure(figsize=(25,10))\n",
        "plt.title('Распределение кол-ва лайков по пользователям', fontsize=20)\n",
        "plt.bar(x, y, color = '#FF4500')\n",
        "plt.xlabel(f'Длинна последовательности лайков от 0 до {max_len}', fontsize=16)\n",
        "plt.xticks([])\n",
        "plt.ylabel('Кол-во пользователей', fontsize=16)\n",
        "plt.show()"
      ],
      "metadata": {
        "colab": {
          "base_uri": "https://localhost:8080/",
          "height": 554
        },
        "id": "8rHt3RM6cnNs",
        "outputId": "a7eb956d-5268-4b30-f5a5-33ffe17cd154"
      },
      "execution_count": 18,
      "outputs": [
        {
          "output_type": "display_data",
          "data": {
            "text/plain": [
              "<Figure size 1800x720 with 1 Axes>"
            ],
            "image/png": "[encoded data removed]"
          },
          "metadata": {
            "needs_background": "light"
          }
        }
      ]
    },
    {
      "cell_type": "code",
      "execution_count": 21,
      "metadata": {
        "id": "GKHw_eiKju4T"
      },
      "outputs": [],
      "source": [
        "# обучение векторных представлений треков\n",
        "embeddings = Word2Vec(likes, vector_size=300, window=4, min_count=1, workers=4)"
      ]
    },
    {
      "cell_type": "markdown",
      "metadata": {
        "id": "KewQd9RY5Rbf"
      },
      "source": [
        "Сделаю submit следующим образом:  \n",
        "1) Посчитаю средние эмбединги для каждого пользователя  \n",
        "2) Найду топ 357 ближайших треков по косинусной мере(именно 357 треков, чтобы смогли гарантированно порекомендовать 100 треков)  \n",
        "3) Вычту треки, которые пользователь уже слушал  "
      ]
    },
    {
      "cell_type": "code",
      "execution_count": 22,
      "metadata": {
        "id": "H6v7Caz4zf95"
      },
      "outputs": [],
      "source": [
        "# считаем средний эмбединг пользователя в test\n",
        "average_emb = []\n",
        "\n",
        "with open('test') as f:\n",
        "    lines = f.readlines()\n",
        "    for line in lines:\n",
        "        sum = np.zeros(300)\n",
        "        tracks = line.strip().split(' ')\n",
        "        for i in range(len(tracks)):\n",
        "            if tracks[i] in embeddings.wv:\n",
        "                sum += embeddings.wv[tracks[i]]\n",
        "        average_emb.append(sum/len(tracks))"
      ]
    },
    {
      "cell_type": "code",
      "execution_count": null,
      "metadata": {
        "id": "JVfPwLq07t57"
      },
      "outputs": [],
      "source": [
        "# запомним треки, которые пользователь уже слушал\n",
        "likes_test = []\n",
        "with open('test') as f:\n",
        "    lines = f.readlines()\n",
        "    for line in lines:\n",
        "        tracks = line.strip().split(' ')\n",
        "        likes_test.append(tracks)"
      ]
    },
    {
      "cell_type": "code",
      "execution_count": null,
      "metadata": {
        "id": "QJizkVOd3_Qs"
      },
      "outputs": [],
      "source": [
        "# находим топ похожих треков и вычитаем уже прослушанные\n",
        "result = []\n",
        "for person in tqdm(range(len(average_emb))):\n",
        "    similar = embeddings.wv.most_similar(average_emb[person],topn=357)\n",
        "    rec = []\n",
        "    for i in range(len(similar)):\n",
        "        if similar[i][0] not in likes[person] and len(rec) != 100:\n",
        "          rec.append(similar[i][0])\n",
        "        if len(rec) == 100:\n",
        "          break\n",
        "    result.append(' '.join([x for x in rec]) + '\\n')"
      ]
    },
    {
      "cell_type": "code",
      "source": [
        "# записываем результат\n",
        "with open('result', 'w') as f:\n",
        "    f.writelines(result)"
      ],
      "metadata": {
        "id": "m6BxATDBgKkQ"
      },
      "execution_count": null,
      "outputs": []
    }
  ],
  "metadata": {
    "colab": {
      "provenance": []
    },
    "kernelspec": {
      "display_name": "Python 3",
      "name": "python3"
    },
    "language_info": {
      "name": "python"
    },
    "gpuClass": "standard"
  },
  "nbformat": 4,
  "nbformat_minor": 0
}